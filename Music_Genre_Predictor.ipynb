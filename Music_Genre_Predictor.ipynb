{
 "cells": [
  {
   "cell_type": "code",
   "execution_count": 1,
   "id": "7f62cd78-aac6-41d4-8106-edbadff8fbf7",
   "metadata": {},
   "outputs": [],
   "source": [
    "import os\n",
    "import librosa\n",
    "import numpy as np\n",
    "import tensorflow as tf\n",
    "import matplotlib.pyplot as plt\n",
    "import seaborn as sns\n",
    "from tensorflow.image import resize\n",
    "import pandas as pd\n",
    "from sklearn.metrics.pairwise import cosine_similarity\n",
    "from sklearn.neighbors import NearestNeighbors"
   ]
  },
  {
   "cell_type": "code",
   "execution_count": 2,
   "id": "9caa0045-a308-4736-89e6-0b8279b5cb7d",
   "metadata": {},
   "outputs": [],
   "source": [
    "#Loading Model\n",
    "model = tf.keras.models.load_model(\"Trained_model.keras\")"
   ]
  },
  {
   "cell_type": "code",
   "execution_count": 3,
   "id": "8f5a7b76-dea6-4008-89c2-7a276191706f",
   "metadata": {},
   "outputs": [],
   "source": [
    "# classes = ['blues', 'classical','country','disco','hiphop','metal','pop','reggae','rock']\n",
    "classes = ['hiphop','metal', 'rock']"
   ]
  },
  {
   "cell_type": "code",
   "execution_count": 4,
   "id": "5d54957e-f033-492b-8fd0-d3310a2cd558",
   "metadata": {},
   "outputs": [],
   "source": [
    "# Load and preprocess audio data\n",
    "def load_and_preprocess_data(file_path, target_shape=(150, 150)):\n",
    "    data = []\n",
    "    audio_data, sample_rate = librosa.load(file_path, sr=None)\n",
    "    # Perform preprocessing\n",
    "    # Define the duration of each chunk and overlap\n",
    "    chunk_duration = 4  # seconds\n",
    "    overlap_duration = 2  # seconds\n",
    "                \n",
    "    # Convert durations to samples\n",
    "    chunk_samples = chunk_duration * sample_rate\n",
    "    overlap_samples = overlap_duration * sample_rate\n",
    "                \n",
    "    # Calculate the number of chunks\n",
    "    num_chunks = int(np.ceil((len(audio_data) - chunk_samples) / (chunk_samples - overlap_samples))) + 1\n",
    "                \n",
    "    # Iterate over each chunk\n",
    "    for i in range(num_chunks):\n",
    "                    # Calculate start and end indices of the chunk\n",
    "        start = i * (chunk_samples - overlap_samples)\n",
    "        end = start + chunk_samples\n",
    "                    \n",
    "                    # Extract the chunk of audio\n",
    "        chunk = audio_data[start:end]\n",
    "                    \n",
    "                    # Compute the Mel spectrogram for the chunk\n",
    "        mel_spectrogram = librosa.feature.melspectrogram(y=chunk, sr=sample_rate)\n",
    "                    \n",
    "                #mel_spectrogram = librosa.feature.melspectrogram(y=audio_data, sr=sample_rate)\n",
    "        mel_spectrogram = resize(np.expand_dims(mel_spectrogram, axis=-1), target_shape)\n",
    "        data.append(mel_spectrogram)\n",
    "    \n",
    "    return np.array(data)"
   ]
  },
  {
   "cell_type": "code",
   "execution_count": 5,
   "id": "7d1008b8-4ef6-465e-b895-55cd39694e76",
   "metadata": {},
   "outputs": [],
   "source": [
    "file_path = 'Mobb Deep - Shook Ones, Pt. II (Official Audio).mp3'\n",
    "X_test = load_and_preprocess_data(file_path)"
   ]
  },
  {
   "cell_type": "code",
   "execution_count": 6,
   "id": "e11e29f6-5bb4-4ee6-bde3-be1637dbfce3",
   "metadata": {},
   "outputs": [
    {
     "data": {
      "text/plain": [
       "(163, 150, 150, 1)"
      ]
     },
     "execution_count": 6,
     "metadata": {},
     "output_type": "execute_result"
    }
   ],
   "source": [
    "X_test.shape"
   ]
  },
  {
   "cell_type": "code",
   "execution_count": 7,
   "id": "e80b6d95-0ef3-49cf-bb90-aee7030ca100",
   "metadata": {},
   "outputs": [],
   "source": [
    "def model_prediction(X_test):\n",
    "    Y_pred = model.predict(X_test)\n",
    "    predicted_categories = np.argmax(Y_pred, axis=1)\n",
    "    unique_elements, counts = np.unique(predicted_categories, return_counts=True)\n",
    "    max_count = np.max(counts)\n",
    "    max_elements = unique_elements[counts==max_count]\n",
    "    return max_elements[0]"
   ]
  },
  {
   "cell_type": "code",
   "execution_count": 8,
   "id": "b14e97de-8727-4fe3-9a25-3c8bf9d7d457",
   "metadata": {},
   "outputs": [
    {
     "name": "stdout",
     "output_type": "stream",
     "text": [
      "6/6 [==============================] - 1s 177ms/step\n"
     ]
    }
   ],
   "source": [
    "c_index = model_prediction(X_test)"
   ]
  },
  {
   "cell_type": "code",
   "execution_count": 9,
   "id": "17cafe50-df72-4e5c-a56d-73671947b3c7",
   "metadata": {},
   "outputs": [
    {
     "data": {
      "text/plain": [
       "0"
      ]
     },
     "execution_count": 9,
     "metadata": {},
     "output_type": "execute_result"
    }
   ],
   "source": [
    "c_index"
   ]
  },
  {
   "cell_type": "code",
   "execution_count": 10,
   "id": "22ad5a1f-8548-42b9-a049-4b474c067ca1",
   "metadata": {},
   "outputs": [
    {
     "name": "stdout",
     "output_type": "stream",
     "text": [
      "Predicted genre :  hiphop\n"
     ]
    }
   ],
   "source": [
    "print(\"Predicted genre : \", classes[c_index])"
   ]
  },
  {
   "cell_type": "code",
   "execution_count": null,
   "id": "3f63367d-6515-46ca-99c6-9150da6cf058",
   "metadata": {},
   "outputs": [],
   "source": [
    "# Create database focused on the 3 genres used\n",
    "def create_gtzan_database(base_path=\"genres_original_split\"):\n",
    "    database = []\n",
    "    \n",
    "    for genre in ['hiphop', 'metal', 'rock']:\n",
    "        genre_path = os.path.join(base_path, genre)\n",
    "        \n",
    "        if not os.path.isdir(genre_path):\n",
    "            print(f\"Warning: Genre directory {genre} not found in {base_path}\")\n",
    "            continue\n",
    "            \n",
    "        print(f\"Processing genre: {genre}\")\n",
    "        \n",
    "        for file in os.listdir(genre_path):\n",
    "            if file.endswith('.wav') or file.endswith('.au'):\n",
    "                file_path = os.path.join(genre_path, file)\n",
    "                \n",
    "                try:\n",
    "                    # Load audio\n",
    "                    y, sr = librosa.load(file_path, sr=22050, duration=30)\n",
    "                    \n",
    "                    # Extract simpler feature set\n",
    "                    mfccs = librosa.feature.mfcc(y=y, sr=sr, n_mfcc=13)\n",
    "                    mfcc_means = np.mean(mfccs, axis=1)  # Average over time\n",
    "                    \n",
    "                    database.append({\n",
    "                        'file': file,\n",
    "                        'path': file_path,\n",
    "                        'genre': genre,\n",
    "                        'features': mfcc_means.tolist()\n",
    "                    })\n",
    "                    \n",
    "                except Exception as e:\n",
    "                    print(f\"Error processing {file_path}: {e}\")\n",
    "                    continue\n",
    "    \n",
    "    return pd.DataFrame(database)"
   ]
  },
  {
   "cell_type": "code",
   "execution_count": null,
   "id": "732815bf-9e35-4c4e-98ec-4ce518f33226",
   "metadata": {},
   "outputs": [],
   "source": [
    "database = create_gtzan_database()\n",
    "\n",
    "# Saving database for future use\n",
    "database.to_csv(\"gtzan_features_database.csv\", index=False)\n",
    "print(f\"Database created with {len(database)} songs\")"
   ]
  },
  {
   "cell_type": "code",
   "execution_count": 11,
   "id": "713bfe31-383f-40cd-b285-942dd3308bd2",
   "metadata": {},
   "outputs": [],
   "source": [
    "def recommend_similar_songs(query_song_path, database_path=\"gtzan_features_database.csv\", top_n=5):\n",
    "    # Load the database\n",
    "    database = pd.read_csv(database_path)\n",
    "    database['features'] = database['features'].apply(eval)  # Convert string back to list\n",
    "    \n",
    "    # Predict the genre using your existing model\n",
    "    X_test = load_and_preprocess_data(query_song_path)\n",
    "    genre_index = model_prediction(X_test)\n",
    "    predicted_genre = classes[genre_index]\n",
    "    print(f\"Predicted genre: {predicted_genre}\")\n",
    "    \n",
    "    # Extract features from the query song for similarity comparison\n",
    "    try:\n",
    "        y, sr = librosa.load(query_song_path, sr=22050, duration=30)\n",
    "        mfccs = librosa.feature.mfcc(y=y, sr=sr, n_mfcc=13)\n",
    "        query_features = np.mean(mfccs, axis=1)  # Average over time\n",
    "    except Exception as e:\n",
    "        print(f\"Error extracting features: {e}\")\n",
    "        return None\n",
    "    \n",
    "    # Filter database to only include songs from the predicted genre\n",
    "    genre_songs = database[database['genre'] == predicted_genre].copy()\n",
    "    \n",
    "    if len(genre_songs) == 0:\n",
    "        return f\"No songs found in the predicted genre: {predicted_genre}\"\n",
    "    \n",
    "    # Extract features for scaling\n",
    "    all_features = np.array(genre_songs['features'].tolist())\n",
    "    \n",
    "    # Apply scaling to features\n",
    "    from sklearn.preprocessing import StandardScaler\n",
    "    scaler = StandardScaler()\n",
    "    scaler.fit(all_features)\n",
    "    \n",
    "    # Scale query features\n",
    "    scaled_query_features = scaler.transform([query_features])[0]\n",
    "    \n",
    "    # Calculate cosine similarity with scaled features\n",
    "    similarities = []\n",
    "    for _, song in genre_songs.iterrows():\n",
    "        song_features = np.array(song['features'])\n",
    "        scaled_song_features = scaler.transform([song_features])[0]\n",
    "        sim = cosine_similarity([scaled_query_features], [scaled_song_features])[0][0]\n",
    "        similarities.append(sim)\n",
    "    \n",
    "    genre_songs['similarity'] = similarities\n",
    "    \n",
    "    # Sort by similarity and return top recommendations\n",
    "    recommendations = genre_songs.sort_values('similarity', ascending=False).head(top_n)\n",
    "    return recommendations[['file', 'genre', 'similarity']]"
   ]
  },
  {
   "cell_type": "code",
   "execution_count": 12,
   "id": "6fb0e0b2-a39f-459f-97f7-102198eccc4f",
   "metadata": {},
   "outputs": [],
   "source": [
    "def recommend_songs_knn(query_song_path, database_path=\"gtzan_features_database.csv\", top_n=5, n_neighbors=5):\n",
    "    # Load the database\n",
    "    database = pd.read_csv(database_path)\n",
    "    database['features'] = database['features'].apply(eval)  # Convert string back to list\n",
    "    \n",
    "    # Predict the genre using your existing model\n",
    "    X_test = load_and_preprocess_data(query_song_path)\n",
    "    genre_index = model_prediction(X_test)\n",
    "    predicted_genre = classes[genre_index]\n",
    "    print(f\"Predicted genre (KNN): {predicted_genre}\")\n",
    "    \n",
    "    # Extract features from the query song\n",
    "    try:\n",
    "        y, sr = librosa.load(query_song_path, sr=22050, duration=30)\n",
    "        mfccs = librosa.feature.mfcc(y=y, sr=sr, n_mfcc=13)\n",
    "        query_features = np.mean(mfccs, axis=1)  # Average over time\n",
    "    except Exception as e:\n",
    "        print(f\"Error extracting features: {e}\")\n",
    "        return None\n",
    "    \n",
    "    # Filter database to only include songs from the predicted genre\n",
    "    genre_songs = database[database['genre'] == predicted_genre].copy()\n",
    "    \n",
    "    if len(genre_songs) == 0:\n",
    "        return f\"No songs found in the predicted genre: {predicted_genre}\"\n",
    "    \n",
    "    # Prepare feature matrix for KNN\n",
    "    features_matrix = np.array(genre_songs['features'].tolist())\n",
    "    \n",
    "    # Fit KNN model and find nearest neighbors\n",
    "    knn = NearestNeighbors(n_neighbors=min(n_neighbors, len(features_matrix)), \n",
    "                           algorithm='auto', \n",
    "                           metric='euclidean')\n",
    "    knn.fit(features_matrix)\n",
    "    \n",
    "    distances, indices = knn.kneighbors([query_features], n_neighbors=min(n_neighbors, len(features_matrix)))\n",
    "    \n",
    "    # Get recommended songs\n",
    "    recommended_songs = genre_songs.iloc[indices[0]].copy()\n",
    "    recommended_songs['distance'] = distances[0]\n",
    "    \n",
    "    # Normalize distances to similarity scores in range 0-1 (similar to cosine similarity)\n",
    "    # Min-max normalization if multiple distances\n",
    "    if len(distances[0]) > 1:\n",
    "        max_dist = np.max(distances[0])\n",
    "        min_dist = np.min(distances[0])\n",
    "        # Convert to similarity (1 = most similar, 0 = least similar)\n",
    "        if max_dist > min_dist:  # Avoid division by zero\n",
    "            normalized_sim = 1 - ((distances[0] - min_dist) / (max_dist - min_dist))\n",
    "        else:\n",
    "            normalized_sim = np.ones_like(distances[0])\n",
    "    else:\n",
    "        # If only one result, set similarity to 1\n",
    "        normalized_sim = np.ones_like(distances[0])\n",
    "    \n",
    "    # Assign normalized similarity\n",
    "    recommended_songs['knn_similarity'] = normalized_sim\n",
    "    \n",
    "    # Sort by similarity (highest first)\n",
    "    recommended_songs = recommended_songs.sort_values('knn_similarity', ascending=False)\n",
    "    \n",
    "    return recommended_songs[['file', 'genre', 'distance', 'knn_similarity']].head(top_n) "
   ]
  },
  {
   "cell_type": "code",
   "execution_count": 13,
   "id": "7998fb20-4c62-4e5e-9f46-573f2f94cd9c",
   "metadata": {},
   "outputs": [
    {
     "name": "stdin",
     "output_type": "stream",
     "text": [
      "Enter path to your test song (e.g., 'Mobb Deep - Shook Ones, Pt. II (Official Audio).mp3'):  Mobb Deep - Shook Ones, Pt. II (Official Audio).mp3\n"
     ]
    },
    {
     "name": "stdout",
     "output_type": "stream",
     "text": [
      "6/6 [==============================] - 1s 172ms/step\n",
      "Predicted genre: hiphop\n",
      "6/6 [==============================] - 1s 169ms/step\n",
      "Predicted genre (KNN): hiphop\n"
     ]
    },
    {
     "name": "stdout",
     "output_type": "stream",
     "text": [
      "6/6 [==============================] - 1s 173ms/step\n",
      "Predicted genre: metal\n",
      "6/6 [==============================] - 1s 172ms/step\n",
      "Predicted genre (KNN): metal\n"
     ]
    }
   ],
   "source": [
    "test_song_path = input(\"Enter path to your test song (e.g., 'Mobb Deep - Shook Ones, Pt. II (Official Audio).mp3'): \")\n",
    "recommendations = recommend_similar_songs(test_song_path)\n",
    "\n",
    "knn_reccomendations = recommend_songs_knn(test_song_path, database_path=\"gtzan_features_database.csv\", top_n=5)"
   ]
  },
  {
   "cell_type": "code",
   "execution_count": 14,
   "id": "2861bc9c-bb5f-477c-81a2-3c07c3b0af36",
   "metadata": {},
   "outputs": [
    {
     "name": "stdout",
     "output_type": "stream",
     "text": [
      "\n",
      "KNN Recommended songs:\n",
      "                file   genre   distance  knn_similarity\n",
      "13  hiphop.00087.wav  hiphop  62.901326        1.000000\n",
      "26  hiphop.00098.wav  hiphop  64.894593        0.701279\n",
      "25  hiphop.00099.wav  hiphop  66.027139        0.531549\n",
      "3   hiphop.00083.wav  hiphop  67.328249        0.336558\n",
      "10  hiphop.00085.wav  hiphop  69.573989        0.000000\n",
      "\n",
      "Cosine Similarity Recommended songs:\n",
      "                file   genre  similarity\n",
      "19  hiphop.00075.wav  hiphop    0.559207\n",
      "6   hiphop.00080.wav  hiphop    0.557782\n",
      "17  hiphop.00079.wav  hiphop    0.520037\n",
      "28  hiphop.00071.wav  hiphop    0.401145\n",
      "12  hiphop.00078.wav  hiphop    0.397191\n"
     ]
    }
   ],
   "source": [
    "print(\"\\nKNN Recommended songs:\")\n",
    "print(knn_reccomendations)\n",
    "print(\"\\nCosine Similarity Recommended songs:\")\n",
    "print(recommendations)"
   ]
  },
  {
   "cell_type": "code",
   "execution_count": 17,
   "id": "e346947e-e657-45e9-999b-49a65ef6362b",
   "metadata": {},
   "outputs": [],
   "source": [
    "def plot_feature_heatmap(query_song_path, recommendations, database):\n",
    "    \"\"\"Create a heatmap showing feature similarity between query song and recommendations\"\"\"\n",
    "    # Extract query song features\n",
    "    y, sr = librosa.load(query_song_path, sr=22050, duration=30)\n",
    "    mfccs = np.mean(librosa.feature.mfcc(y=y, sr=sr, n_mfcc=13).T, axis=0)\n",
    "    \n",
    "    # Get features for all songs\n",
    "    features_list = [mfccs]\n",
    "    song_names = ['Query Song']\n",
    "    \n",
    "    for _, song in recommendations.iterrows():\n",
    "        song_features = np.array(database[database['file'] == song['file']]['features'].iloc[0])\n",
    "        features_list.append(song_features[:13])  # Take just the MFCCs for visualization\n",
    "        song_names.append(song['file'].split('.')[0])\n",
    "    \n",
    "    # Create feature matrix\n",
    "    feature_matrix = np.array(features_list)\n",
    "    \n",
    "    # Create heatmap\n",
    "    plt.figure(figsize=(12, 8))\n",
    "    ax = sns.heatmap(feature_matrix, annot=False, cmap='viridis',\n",
    "                     yticklabels=song_names,\n",
    "                     xticklabels=[f'MFCC {i+1}' for i in range(13)])\n",
    "    plt.title('MFCC Features: Query Song vs. Recommended Songs')\n",
    "    plt.tight_layout()\n",
    "    plt.show()"
   ]
  },
  {
   "cell_type": "code",
   "execution_count": 18,
   "id": "8ae6a3a0-1d74-494f-b73f-7f245feef750",
   "metadata": {},
   "outputs": [
    {
     "ename": "NameError",
     "evalue": "name 'database' is not defined",
     "output_type": "error",
     "traceback": [
      "\u001b[0;31m---------------------------------------------------------------------------\u001b[0m",
      "\u001b[0;31mNameError\u001b[0m                                 Traceback (most recent call last)",
      "Cell \u001b[0;32mIn[18], line 1\u001b[0m\n\u001b[0;32m----> 1\u001b[0m plot_feature_heatmap(test_song_path, recommendations, \u001b[43mdatabase\u001b[49m)\n",
      "\u001b[0;31mNameError\u001b[0m: name 'database' is not defined"
     ]
    }
   ],
   "source": [
    "plot_feature_heatmap(test_song_path, recommendations, database)"
   ]
  },
  {
   "cell_type": "code",
   "execution_count": 19,
   "id": "862d62e7-4d97-437e-9eb4-2dc6d5f53fd7",
   "metadata": {},
   "outputs": [],
   "source": [
    "def plot_recommendation_comparison(cosine_recs, knn_recs):\n",
    "    # Create figure for comparing similarity scores\n",
    "    plt.figure(figsize=(12, 6))\n",
    "    \n",
    "    # Plot cosine similarity scores\n",
    "    plt.subplot(1, 2, 1)\n",
    "    plt.bar(range(len(cosine_recs)), cosine_recs['similarity'], color='skyblue')\n",
    "    plt.title('Cosine Similarity Recommendations')\n",
    "    plt.xlabel('Recommendation Rank')\n",
    "    plt.ylabel('Similarity Score')\n",
    "    plt.ylim(0, 1.0)  # Standardize y-axis\n",
    "    plt.xticks(range(len(cosine_recs)), [f.split('.')[0] for f in cosine_recs['file']], rotation=45)\n",
    "    \n",
    "    # Plot KNN similarity scores\n",
    "    plt.subplot(1, 2, 2)\n",
    "    plt.bar(range(len(knn_recs)), knn_recs['knn_similarity'], color='salmon')\n",
    "    plt.title('KNN Similarity Recommendations')\n",
    "    plt.xlabel('Recommendation Rank')\n",
    "    plt.ylabel('Similarity Score')\n",
    "    plt.ylim(0, 1.0)  # Standardize y-axis\n",
    "    plt.xticks(range(len(knn_recs)), [f.split('.')[0] for f in knn_recs['file']], rotation=45)\n",
    "    \n",
    "    plt.tight_layout()\n",
    "    plt.show()"
   ]
  },
  {
   "cell_type": "code",
   "execution_count": 20,
   "id": "5086d80a-4b11-43fc-823a-6e940ee382cd",
   "metadata": {},
   "outputs": [],
   "source": [
    "def plot_overlap_venn(cosine_recs, knn_recs):\n",
    "    try:\n",
    "        from matplotlib_venn import venn2\n",
    "        \n",
    "        # Get the files recommended by each method\n",
    "        cosine_files = set(cosine_recs['file'])\n",
    "        knn_files = set(knn_recs['file'])\n",
    "        \n",
    "        plt.figure(figsize=(8, 6))\n",
    "        venn = venn2([cosine_files, knn_files], \n",
    "                     set_labels=('Cosine Similarity', 'KNN'))\n",
    "        \n",
    "        # Get the overlap count\n",
    "        overlap = cosine_files.intersection(knn_files)\n",
    "        plt.title(f'Overlap between Recommendation Methods: {len(overlap)} songs')\n",
    "        plt.show()\n",
    "    except ImportError:\n",
    "        print(\"matplotlib-venn package not installed. Install with: pip install matplotlib-venn\")\n",
    "        \n",
    "        # Alternative: just print the overlap information\n",
    "        cosine_files = set(cosine_recs['file'])\n",
    "        knn_files = set(knn_recs['file'])\n",
    "        overlap = cosine_files.intersection(knn_files)\n",
    "        only_cosine = cosine_files - knn_files\n",
    "        only_knn = knn_files - cosine_files\n",
    "        \n",
    "        print(f\"Songs in both methods: {len(overlap)}\")\n",
    "        print(f\"Songs only in Cosine: {len(only_cosine)}\")\n",
    "        print(f\"Songs only in KNN: {len(only_knn)}\")"
   ]
  },
  {
   "cell_type": "code",
   "execution_count": 21,
   "id": "0e1fe343-cc2b-4626-876c-7605172cd0a6",
   "metadata": {},
   "outputs": [],
   "source": [
    "def plot_heatmap_comparison(cosine_recs, knn_recs):\n",
    "    print(\"Cosine recommendations:\")\n",
    "    print(cosine_recs)\n",
    "    print(\"\\nKNN recommendations:\")\n",
    "    print(knn_recs)\n",
    "    \n",
    "    # Prepare data for plotting - ensure we have file and similarity columns\n",
    "    cosine_data = cosine_recs[['file', 'similarity']].copy()\n",
    "    \n",
    "    # Extract song name without extension, but keep full name for uniqueness\n",
    "    cosine_data['song_name'] = cosine_data['file'].apply(lambda x: x.split('.')[0])\n",
    "    \n",
    "    knn_data = knn_recs[['file', 'knn_similarity']].copy()\n",
    "    knn_data.rename(columns={'knn_similarity': 'similarity'}, inplace=True)\n",
    "    knn_data['song_name'] = knn_data['file'].apply(lambda x: x.split('.')[0])\n",
    "    \n",
    "    # Print debug info to verify we have multiple files\n",
    "    print(f\"Cosine recommendations: {len(cosine_data)} songs\")\n",
    "    print(f\"KNN recommendations: {len(knn_data)} songs\")\n",
    "    \n",
    "    # Let's try a simpler approach - direct plotting of the data we have\n",
    "    fig, (ax1, ax2) = plt.subplots(1, 2, figsize=(14, 6))\n",
    "    \n",
    "    # Plot cosine similarity\n",
    "    song_indices = np.arange(len(cosine_data))\n",
    "    ax1.bar(song_indices, cosine_data['similarity'], color='skyblue')\n",
    "    ax1.set_title('Cosine Similarity Recommendations')\n",
    "    ax1.set_ylabel('Similarity Score')\n",
    "    ax1.set_ylim(0, 1.0)\n",
    "    ax1.set_xticks(song_indices)\n",
    "    ax1.set_xticklabels(cosine_data['song_name'], rotation=45, ha='right')\n",
    "    \n",
    "    # Add value labels\n",
    "    for i, v in enumerate(cosine_data['similarity']):\n",
    "        ax1.text(i, v + 0.02, f'{v:.2f}', ha='center', fontsize=9)\n",
    "    \n",
    "    # Plot KNN similarity\n",
    "    song_indices = np.arange(len(knn_data))\n",
    "    ax2.bar(song_indices, knn_data['similarity'], color='salmon')\n",
    "    ax2.set_title('KNN Similarity Recommendations')\n",
    "    ax2.set_ylabel('Similarity Score')\n",
    "    ax2.set_ylim(0, 1.0)\n",
    "    ax2.set_xticks(song_indices)\n",
    "    ax2.set_xticklabels(knn_data['song_name'], rotation=45, ha='right')\n",
    "    \n",
    "    # Add value labels\n",
    "    for i, v in enumerate(knn_data['similarity']):\n",
    "        ax2.text(i, v + 0.02, f'{v:.2f}', ha='center', fontsize=9)\n",
    "    \n",
    "    # Add grid for better readability\n",
    "    ax1.grid(axis='y', linestyle='--', alpha=0.7)\n",
    "    ax2.grid(axis='y', linestyle='--', alpha=0.7)\n",
    "    \n",
    "    plt.tight_layout()\n",
    "    plt.show()"
   ]
  },
  {
   "cell_type": "code",
   "execution_count": 22,
   "id": "4c814f04-b4e8-4a01-8fde-45aeb296b3d8",
   "metadata": {},
   "outputs": [
    {
     "data": {
      "image/png": "[encoded data removed]",
      "text/plain": [
       "<Figure size 1200x600 with 2 Axes>"
      ]
     },
     "metadata": {},
     "output_type": "display_data"
    }
   ],
   "source": [
    "plot_recommendation_comparison(recommendations, knn_reccomendations)"
   ]
  },
  {
   "cell_type": "code",
   "execution_count": 23,
   "id": "057d1e5f-b657-4d8f-ac04-a329de7b5751",
   "metadata": {},
   "outputs": [
    {
     "name": "stdout",
     "output_type": "stream",
     "text": [
      "Cosine recommendations:\n",
      "               file  genre  similarity\n",
      "57  metal.00098.wav  metal    0.818565\n",
      "50  metal.00088.wav  metal    0.616213\n",
      "53  metal.00089.wav  metal    0.578567\n",
      "32  metal.00097.wav  metal    0.575164\n",
      "54  metal.00099.wav  metal    0.445112\n",
      "\n",
      "KNN recommendations:\n",
      "               file  genre    distance  knn_similarity\n",
      "59  metal.00070.wav  metal   51.659831        1.000000\n",
      "48  metal.00074.wav  metal   56.347660        0.930073\n",
      "50  metal.00088.wav  metal   89.288761        0.438703\n",
      "43  metal.00093.wav  metal  117.224747        0.021992\n",
      "57  metal.00098.wav  metal  118.699085        0.000000\n",
      "Cosine recommendations: 5 songs\n",
      "KNN recommendations: 5 songs\n"
     ]
    },
    {
     "data": {
      "image/png": "[encoded data removed]",
      "text/plain": [
       "<Figure size 1400x600 with 2 Axes>"
      ]
     },
     "metadata": {},
     "output_type": "display_data"
    }
   ],
   "source": [
    "plot_heatmap_comparison(recommendations, knn_reccomendations)"
   ]
  },
  {
   "cell_type": "code",
   "execution_count": 24,
   "id": "cbce0bd1-7a70-4da6-abb8-814702d3cd62",
   "metadata": {},
   "outputs": [
    {
     "data": {
      "image/png": "[encoded data removed]",
      "text/plain": [
       "<Figure size 800x600 with 1 Axes>"
      ]
     },
     "metadata": {},
     "output_type": "display_data"
    }
   ],
   "source": [
    "plot_overlap_venn(recommendations, knn_reccomendations)"
   ]
  },
  {
   "cell_type": "code",
   "execution_count": 25,
   "id": "5e2b316d-afd4-42f7-a68f-c41ebfde1336",
   "metadata": {},
   "outputs": [],
   "source": [
    "def evaluate_recommendation_accuracy_cosine(database_path=\"gtzan_features_database.csv\", test_size=0.2):\n",
    "    # Load database\n",
    "    database = pd.read_csv(database_path)\n",
    "    database['features'] = database['features'].apply(eval)\n",
    "    \n",
    "    # Split into train/test\n",
    "    from sklearn.model_selection import train_test_split\n",
    "    from sklearn.preprocessing import StandardScaler\n",
    "    \n",
    "    train_db, test_db = train_test_split(database, test_size=test_size, stratify=database['genre'], random_state=42)\n",
    "    \n",
    "    # Extract all features for scaling\n",
    "    all_features = np.array(train_db['features'].tolist())\n",
    "    \n",
    "    # Fit scaler on training data\n",
    "    scaler = StandardScaler()\n",
    "    scaler.fit(all_features)\n",
    "    \n",
    "    # Track metrics\n",
    "    genre_accuracy = []\n",
    "    \n",
    "    # For each test song\n",
    "    for idx, test_song in test_db.iterrows():\n",
    "        true_genre = test_song['genre']\n",
    "        \n",
    "        # Scale test features\n",
    "        test_features = np.array(test_song['features'])\n",
    "        scaled_test_features = scaler.transform([test_features])[0]\n",
    "        \n",
    "        # Use all songs from train database\n",
    "        genre_songs = train_db.copy()\n",
    "        \n",
    "        # Calculate similarity to all songs with scaled features\n",
    "        similarities = []\n",
    "        for _, song in genre_songs.iterrows():\n",
    "            song_features = np.array(song['features'])\n",
    "            scaled_song_features = scaler.transform([song_features])[0]\n",
    "            sim = cosine_similarity([scaled_test_features], [scaled_song_features])[0][0]\n",
    "            similarities.append(sim)\n",
    "        \n",
    "        genre_songs['similarity'] = similarities\n",
    "        \n",
    "        # Get top 5 recommendations\n",
    "        top_recommendations = genre_songs.sort_values('similarity', ascending=False).head(5)\n",
    "        \n",
    "        # Calculate genre match accuracy\n",
    "        genre_matches = (top_recommendations['genre'] == true_genre).sum()\n",
    "        accuracy = genre_matches / len(top_recommendations)\n",
    "        genre_accuracy.append(accuracy)\n",
    "    \n",
    "    # Overall accuracy\n",
    "    mean_accuracy = np.mean(genre_accuracy)\n",
    "    print(f\"Improved Cosine Recommendation accuracy: {mean_accuracy:.2f}\")\n",
    "    \n",
    "    return mean_accuracy, genre_accuracy"
   ]
  },
  {
   "cell_type": "code",
   "execution_count": 26,
   "id": "5319d575-145a-4997-8027-9d58cdfb0ec3",
   "metadata": {},
   "outputs": [
    {
     "name": "stdout",
     "output_type": "stream",
     "text": [
      "Improved Cosine Recommendation accuracy: 0.78\n"
     ]
    },
    {
     "data": {
      "text/plain": [
       "(0.7777777777777778,\n",
       " [0.6,\n",
       "  0.4,\n",
       "  1.0,\n",
       "  1.0,\n",
       "  0.8,\n",
       "  0.8,\n",
       "  1.0,\n",
       "  0.8,\n",
       "  0.6,\n",
       "  0.8,\n",
       "  1.0,\n",
       "  1.0,\n",
       "  0.6,\n",
       "  0.6,\n",
       "  0.6,\n",
       "  0.4,\n",
       "  1.0,\n",
       "  1.0])"
      ]
     },
     "execution_count": 26,
     "metadata": {},
     "output_type": "execute_result"
    }
   ],
   "source": [
    "evaluate_recommendation_accuracy_cosine()"
   ]
  },
  {
   "cell_type": "code",
   "execution_count": 15,
   "id": "42140b54-fe82-4d4e-9124-60c119cf94b4",
   "metadata": {},
   "outputs": [],
   "source": [
    "def evaluate_knn_recommendation_accuracy_for_knn(database_path=\"gtzan_features_database.csv\", test_size=0.2, n_neighbors=5):as\n",
    "    # Load database\n",
    "    database = pd.read_csv(database_path)\n",
    "    database['features'] = database['features'].apply(eval)\n",
    "    \n",
    "    # Split into train/test\n",
    "    from sklearn.model_selection import train_test_split\n",
    "    train_db, test_db = train_test_split(database, test_size=test_size, stratify=database['genre'], random_state=42)\n",
    "    \n",
    "    # Track metrics\n",
    "    genre_accuracy = []\n",
    "    \n",
    "    # For each test song\n",
    "    for idx, test_song in test_db.iterrows():\n",
    "        true_genre = test_song['genre']\n",
    "        test_features = np.array(test_song['features'])\n",
    "        \n",
    "        # Use entire training database (no pre-filtering)\n",
    "        genre_songs = train_db.copy()\n",
    "        features_matrix = np.array(genre_songs['features'].tolist())\n",
    "        \n",
    "        # Fit KNN model and find nearest neighbors\n",
    "        knn = NearestNeighbors(n_neighbors=min(n_neighbors, len(features_matrix)), \n",
    "                              algorithm='auto', \n",
    "                              metric='euclidean')\n",
    "        knn.fit(features_matrix)\n",
    "        \n",
    "        distances, indices = knn.kneighbors([test_features], n_neighbors=min(n_neighbors, len(features_matrix)))\n",
    "        \n",
    "        # Get recommended songs\n",
    "        top_recommendations = genre_songs.iloc[indices[0]].copy()\n",
    "        \n",
    "        # Calculate genre match accuracy\n",
    "        genre_matches = (top_recommendations['genre'] == true_genre).sum()\n",
    "        accuracy = genre_matches / len(top_recommendations)\n",
    "        genre_accuracy.append(accuracy)\n",
    "    \n",
    "    # Overall accuracy\n",
    "    mean_accuracy = np.mean(genre_accuracy)\n",
    "    print(f\"KNN Recommendation accuracy: {mean_accuracy:.2f}\")\n",
    "    \n",
    "    return mean_accuracy, genre_accuracy"
   ]
  },
  {
   "cell_type": "code",
   "execution_count": 18,
   "id": "a228a651-9ce5-45e4-ad78-b516b280b330",
   "metadata": {},
   "outputs": [
    {
     "name": "stdout",
     "output_type": "stream",
     "text": [
      "KNN Recommendation accuracy: 0.67\n"
     ]
    },
    {
     "data": {
      "text/plain": [
       "(0.6666666666666665,\n",
       " [0.6,\n",
       "  1.0,\n",
       "  1.0,\n",
       "  0.8,\n",
       "  0.4,\n",
       "  0.4,\n",
       "  0.8,\n",
       "  0.8,\n",
       "  0.8,\n",
       "  0.4,\n",
       "  1.0,\n",
       "  1.0,\n",
       "  0.4,\n",
       "  0.2,\n",
       "  0.6,\n",
       "  0.2,\n",
       "  0.6,\n",
       "  1.0])"
      ]
     },
     "execution_count": 18,
     "metadata": {},
     "output_type": "execute_result"
    }
   ],
   "source": [
    "evaluate_knn_recommendation_accuracy_for_knn()"
   ]
  },
  {
   "cell_type": "code",
   "execution_count": null,
   "id": "514a6770-f47a-4564-84b5-ca4823cceb30",
   "metadata": {},
   "outputs": [],
   "source": []
  }
 ],
 "metadata": {
  "kernelspec": {
   "display_name": "Python 3 (ipykernel)",
   "language": "python",
   "name": "python3"
  },
  "language_info": {
   "codemirror_mode": {
    "name": "ipython",
    "version": 3
   },
   "file_extension": ".py",
   "mimetype": "text/x-python",
   "name": "python",
   "nbconvert_exporter": "python",
   "pygments_lexer": "ipython3",
   "version": "3.11.4"
  }
 },
 "nbformat": 4,
 "nbformat_minor": 5
}
